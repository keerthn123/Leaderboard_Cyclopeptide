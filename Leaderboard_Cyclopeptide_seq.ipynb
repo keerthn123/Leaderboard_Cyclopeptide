{
  "nbformat": 4,
  "nbformat_minor": 0,
  "metadata": {
    "colab": {
      "name": "Leaderboard_Cyclopeptide_seq.ipynb",
      "provenance": [],
      "collapsed_sections": [],
      "include_colab_link": true
    },
    "kernelspec": {
      "name": "python3",
      "display_name": "Python 3"
    },
    "language_info": {
      "name": "python"
    }
  },
  "cells": [
    {
      "cell_type": "markdown",
      "metadata": {
        "id": "view-in-github",
        "colab_type": "text"
      },
      "source": [
        "<a href=\"https://colab.research.google.com/github/keerthn123/Leaderboard_Cyclopeptide/blob/main/Leaderboard_Cyclopeptide_seq.ipynb\" target=\"_parent\"><img src=\"https://colab.research.google.com/assets/colab-badge.svg\" alt=\"Open In Colab\"/></a>"
      ]
    },
    {
      "cell_type": "code",
      "execution_count": null,
      "metadata": {
        "id": "LIOLBnMXyRw0",
        "colab": {
          "base_uri": "https://localhost:8080/"
        },
        "outputId": "d8322f96-3153-46c1-89a8-776ca39fb38c"
      },
      "outputs": [
        {
          "output_type": "stream",
          "name": "stdout",
          "text": [
            "Leaderboard [[71], [113], [129], [147], [57], [87], [97], [99], [101], [103], [114], [115], [128], [131], [137], [156], [163], [186]] \n",
            "\n",
            "\n",
            "Leaderboard [[71, 129], [71, 147], [113, 147], [129, 71], [147, 71], [147, 113], [71, 113], [113, 71], [113, 87], [113, 129], [129, 113], [129, 131], [129, 147], [147, 129], [87, 113]] \n",
            "\n",
            "\n",
            "Leaderboard [[71, 129, 147], [71, 147, 113], [71, 147, 129], [113, 147, 71], [129, 71, 147], [147, 71, 113], [147, 71, 129], [147, 113, 71], [71, 113, 147], [113, 71, 147], [129, 147, 71]] \n",
            "\n",
            "\n",
            "Leaderboard [[71, 147, 113, 129], [113, 147, 71, 129], [129, 71, 147, 113], [147, 71, 129, 113], [71, 129, 147, 113], [147, 113, 71, 129], [71, 113, 147, 129], [71, 147, 129, 113], [147, 71, 113, 129], [113, 71, 147, 129]] \n",
            "\n",
            "\n",
            "Leaderboard [] \n",
            "\n",
            "\n",
            "71-129-147-113\n"
          ]
        }
      ],
      "source": [
        "from collections import Counter\n",
        "\n",
        "weights_list = [57, 71, 87, 97, 99, 101, 103, 113, 114,115, 128, 129, 131, 137, 147, 156, 163, 186]\n",
        "\n",
        "def Leaderboard_Cyclopeptide_Sequencing(Spectrum, N): //a\n",
        "    Leaderboard = [[]]\n",
        "    LeaderPeptide = []\n",
        "    while len(Leaderboard) > 0:\n",
        "        Leaderboard = expand(Leaderboard)\n",
        "        temp_leaderboard = []\n",
        "        for peptide in Leaderboard:\n",
        "            if mass(peptide) == spectrum_mass(Spectrum):\n",
        "                if score(Counter(peptide), Spectrum) > score(Counter(LeaderPeptide), Spectrum):\n",
        "                    LeaderPeptide = peptide\n",
        "            elif mass(peptide) > spectrum_mass(Spectrum):\n",
        "                continue\n",
        "            temp_leaderboard.append(peptide)\n",
        "        Leaderboard = temp_leaderboard\n",
        "        Leaderboard = trim(Leaderboard, Spectrum, N)\n",
        "        print(\"Leaderboard\",Leaderboard,\"\\n\\n\")\n",
        "    return LeaderPeptide\n",
        "\n",
        "\n",
        "def expand(Leaderboard): //k\n",
        "    new_leaderboard = []\n",
        "    for peptide in Leaderboard:\n",
        "        for weight in weights_list:\n",
        "            new_peptide = peptide[:]\n",
        "            new_peptide.append(weight)\n",
        "            new_leaderboard.append(new_peptide)\n",
        "    Leaderboard = new_leaderboard\n",
        "    return Leaderboard\n",
        "\n",
        "def mass(peptide): //k\n",
        "    weight=0\n",
        "    for w in peptide:\n",
        "        weight+=w\n",
        "    return weight\n",
        "\n",
        "def spectrum_mass(Spectrum): //r\n",
        "    max=Spectrum[0]\n",
        "    for ele in Spectrum:\n",
        "        if ele>max:\n",
        "            max=ele\n",
        "    return max\n",
        "\n",
        "def score(peptide, Spectrum): //r\n",
        "    keys = peptide.keys() | Spectrum.keys() \n",
        "    return sum([min(peptide[k], Spectrum[k]) for k in keys])\n",
        "\n",
        "def peptide_spectrum(peptide): // r\n",
        "    Spect = [0]\n",
        "    Spect.append(sum(peptide))\n",
        "    Sum = 0\n",
        "    length = len(peptide)\n",
        "    for i in range(length):\n",
        "      Sum = 0\n",
        "      for j in range(length-1):\n",
        "        N = i+j\n",
        "        if(i+j>=length):\n",
        "          N = (i+j)-length\n",
        "        Sum = Sum + peptide[N]\n",
        "        Spect.append(Sum)\n",
        "    peptide_spectrum=Counter(sorted(Spect))\n",
        "    return peptide_spectrum\n",
        "\n",
        "def trim(Leaderboard, Spectrum, N): //a\n",
        "    if len(Leaderboard) == 0:\n",
        "        return Leaderboard\n",
        "    scores = [score(peptide_spectrum(peptide), Spectrum) for peptide in Leaderboard]\n",
        "    sorted_peptides_and_scores = list(sorted(zip(Leaderboard, scores), key=lambda x: x[1], reverse=True))\n",
        "    for j in range(N + 1, len(sorted_peptides_and_scores)):\n",
        "        if sorted_peptides_and_scores[j][1] < sorted_peptides_and_scores[N][1]:\n",
        "            return [peptide for peptide, _ in sorted_peptides_and_scores[:j-1]]\n",
        "    return [peptide for peptide, _ in sorted_peptides_and_scores]\n",
        "\n",
        "LeaderPeptide=\"\"\n",
        "if __name__ == \"__main__\": // r\n",
        "    file=\"/content/test.txt\"\n",
        "    with open(file, mode='r', encoding='utf-8') as f:\n",
        "        data = f.read()\n",
        "    data = data.split('\\n')\n",
        "    N = int(data[0].strip())\n",
        "    Spectrum = Counter([int(w) for w in data[1].strip().split()])\n",
        "    LeaderPeptide = Leaderboard_Cyclopeptide_Sequencing(Spectrum, N)\n",
        "    result = '-'.join([str(i) for i in LeaderPeptide])\n",
        "    print(result)"
      ]
    },
    {
      "cell_type": "markdown",
      "source": [
        "Amino Acid"
      ],
      "metadata": {
        "id": "sEJ0aNs9zqCw"
      }
    },
    {
      "cell_type": "code",
      "source": [
        "\n",
        "weights_dict = {57: \"G\", 71: \"A\", 87: \"S\", 97: \"P\", 99: \"V\", 101: \"T\", 103:\"C\",\n",
        "                113: \"I/L\", 114: \"N\", 115: \"D\", 128: \"K/Q\", 129: \"E\", 131: \"M\",\n",
        "                137: \"H\", 147: \"F\", 156: \"R\", 163: \"Y\", 186: \"W\"}\n",
        "\n",
        "def amino_acids(LeaderPeptide): //k\n",
        "    temp_list = []\n",
        "    for weight in LeaderPeptide:\n",
        "        temp_list.append(weights_dict[weight])\n",
        "    peptide = ' '.join([str(i) for i in temp_list])\n",
        "    return peptide\n",
        "    \n",
        "peptide =  amino_acids(LeaderPeptide)\n",
        "print(peptide)"
      ],
      "metadata": {
        "id": "Vy3RQjBHzuNg",
        "colab": {
          "base_uri": "https://localhost:8080/"
        },
        "outputId": "0d40db03-40d6-498d-947d-659f943522b0"
      },
      "execution_count": null,
      "outputs": [
        {
          "output_type": "stream",
          "name": "stdout",
          "text": [
            "A E F I/L\n"
          ]
        }
      ]
    }
  ]
}